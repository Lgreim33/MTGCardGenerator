{
 "cells": [
  {
   "cell_type": "code",
   "execution_count": 10,
   "id": "ba887cf4-915f-48d4-8c56-a577127af973",
   "metadata": {
    "tags": []
   },
   "outputs": [
    {
     "name": "stdout",
     "output_type": "stream",
     "text": [
      "Collecting llama-cpp-python==0.2.24\n",
      "  Using cached https://github.com/abetlen/llama-cpp-python/releases/download/v0.2.24/llama_cpp_python-0.2.24-cp311-cp311-win_amd64.whl (1.8 MB)\n",
      "Requirement already satisfied: typing-extensions>=4.5.0 in c:\\users\\lgrei\\getmagicards\\venv\\lib\\site-packages (from llama-cpp-python==0.2.24) (4.13.2)\n",
      "Requirement already satisfied: numpy>=1.20.0 in c:\\users\\lgrei\\getmagicards\\venv\\lib\\site-packages (from llama-cpp-python==0.2.24) (1.26.4)\n",
      "Requirement already satisfied: diskcache>=5.6.1 in c:\\users\\lgrei\\getmagicards\\venv\\lib\\site-packages (from llama-cpp-python==0.2.24) (5.6.3)\n",
      "Note: you may need to restart the kernel to use updated packages.\n"
     ]
    },
    {
     "name": "stderr",
     "output_type": "stream",
     "text": [
      "\n",
      "[notice] A new release of pip is available: 23.1.2 -> 25.1\n",
      "[notice] To update, run: python.exe -m pip install --upgrade pip\n"
     ]
    },
    {
     "name": "stdout",
     "output_type": "stream",
     "text": [
      "Requirement already satisfied: huggingface_hub in c:\\users\\lgrei\\getmagicards\\venv\\lib\\site-packages (0.30.2)\n",
      "Requirement already satisfied: filelock in c:\\users\\lgrei\\getmagicards\\venv\\lib\\site-packages (from huggingface_hub) (3.18.0)\n",
      "Requirement already satisfied: fsspec>=2023.5.0 in c:\\users\\lgrei\\getmagicards\\venv\\lib\\site-packages (from huggingface_hub) (2025.3.2)\n",
      "Requirement already satisfied: packaging>=20.9 in c:\\users\\lgrei\\getmagicards\\venv\\lib\\site-packages (from huggingface_hub) (25.0)\n",
      "Requirement already satisfied: pyyaml>=5.1 in c:\\users\\lgrei\\getmagicards\\venv\\lib\\site-packages (from huggingface_hub) (6.0.2)\n",
      "Requirement already satisfied: requests in c:\\users\\lgrei\\getmagicards\\venv\\lib\\site-packages (from huggingface_hub) (2.32.3)\n",
      "Requirement already satisfied: tqdm>=4.42.1 in c:\\users\\lgrei\\getmagicards\\venv\\lib\\site-packages (from huggingface_hub) (4.67.1)\n",
      "Requirement already satisfied: typing-extensions>=3.7.4.3 in c:\\users\\lgrei\\getmagicards\\venv\\lib\\site-packages (from huggingface_hub) (4.13.2)\n",
      "Requirement already satisfied: colorama in c:\\users\\lgrei\\getmagicards\\venv\\lib\\site-packages (from tqdm>=4.42.1->huggingface_hub) (0.4.6)\n",
      "Requirement already satisfied: charset-normalizer<4,>=2 in c:\\users\\lgrei\\getmagicards\\venv\\lib\\site-packages (from requests->huggingface_hub) (3.4.1)\n",
      "Requirement already satisfied: idna<4,>=2.5 in c:\\users\\lgrei\\getmagicards\\venv\\lib\\site-packages (from requests->huggingface_hub) (3.10)\n",
      "Requirement already satisfied: urllib3<3,>=1.21.1 in c:\\users\\lgrei\\getmagicards\\venv\\lib\\site-packages (from requests->huggingface_hub) (2.3.0)\n",
      "Requirement already satisfied: certifi>=2017.4.17 in c:\\users\\lgrei\\getmagicards\\venv\\lib\\site-packages (from requests->huggingface_hub) (2025.1.31)\n"
     ]
    },
    {
     "name": "stderr",
     "output_type": "stream",
     "text": [
      "\n",
      "[notice] A new release of pip is available: 23.1.2 -> 25.1\n",
      "[notice] To update, run: python.exe -m pip install --upgrade pip\n"
     ]
    },
    {
     "name": "stdout",
     "output_type": "stream",
     "text": [
      "Requirement already satisfied: llama-cpp-python in c:\\users\\lgrei\\getmagicards\\venv\\lib\\site-packages (0.2.24)\n",
      "Requirement already satisfied: typing-extensions>=4.5.0 in c:\\users\\lgrei\\getmagicards\\venv\\lib\\site-packages (from llama-cpp-python) (4.13.2)\n",
      "Requirement already satisfied: numpy>=1.20.0 in c:\\users\\lgrei\\getmagicards\\venv\\lib\\site-packages (from llama-cpp-python) (1.26.4)\n",
      "Requirement already satisfied: diskcache>=5.6.1 in c:\\users\\lgrei\\getmagicards\\venv\\lib\\site-packages (from llama-cpp-python) (5.6.3)\n"
     ]
    },
    {
     "name": "stderr",
     "output_type": "stream",
     "text": [
      "\n",
      "[notice] A new release of pip is available: 23.1.2 -> 25.1\n",
      "[notice] To update, run: python.exe -m pip install --upgrade pip\n"
     ]
    }
   ],
   "source": [
    "#Required Libraries \n",
    "%pip install https://github.com/abetlen/llama-cpp-python/releases/download/v0.2.24/llama_cpp_python-0.2.24-cp311-cp311-win_amd64.whl\n",
    "import sys\n",
    "!{sys.executable} -m pip install huggingface_hub\n",
    "\n",
    "!{sys.executable} -m pip install llama-cpp-python"
   ]
  },
  {
   "cell_type": "code",
   "execution_count": null,
   "id": "d51b9f60-df08-446f-a6f0-ac84cdcee8c5",
   "metadata": {
    "tags": []
   },
   "outputs": [
    {
     "data": {
      "application/vnd.jupyter.widget-view+json": {
       "model_id": "90f7111df8d7479c8e36d457b82794b9",
       "version_major": 2,
       "version_minor": 0
      },
      "text/plain": [
       "VBox(children=(HTML(value='<center> <img\\nsrc=https://huggingface.co/front/assets/huggingface_logo-noborder.sv…"
      ]
     },
     "metadata": {},
     "output_type": "display_data"
    }
   ],
   "source": [
    "# Downloading Model \n",
    "## Huggingface Authentication \n",
    "from huggingface_hub import login\n",
    "from dotenv import load_dotenv\n",
    "import os\n",
    "load_dotenv()\n",
    "\n",
    "login(token=os.environ.get(\"HUGGINGFACE_TOKEN\"))\n"
   ]
  },
  {
   "cell_type": "code",
   "execution_count": 6,
   "id": "8b89ab43-9240-4817-a6da-4c1896546245",
   "metadata": {
    "tags": []
   },
   "outputs": [
    {
     "name": "stderr",
     "output_type": "stream",
     "text": [
      "Error while downloading from https://cdn-lfs-us-1.hf.co/repos/79/f2/79f21025e377180e4ec0e3968bca4612bb9c99fa84e70cb7815186c42a858124/86c8ea6c8b755687d0b723176fcd0b2411ef80533d23e2a5030f845d13ab2db7?response-content-disposition=inline%3B+filename*%3DUTF-8%27%27Meta-Llama-3-8B-Instruct.Q4_K_M.gguf%3B+filename%3D%22Meta-Llama-3-8B-Instruct.Q4_K_M.gguf%22%3B&Expires=1745793276&Policy=eyJTdGF0ZW1lbnQiOlt7IkNvbmRpdGlvbiI6eyJEYXRlTGVzc1RoYW4iOnsiQVdTOkVwb2NoVGltZSI6MTc0NTc5MzI3Nn19LCJSZXNvdXJjZSI6Imh0dHBzOi8vY2RuLWxmcy11cy0xLmhmLmNvL3JlcG9zLzc5L2YyLzc5ZjIxMDI1ZTM3NzE4MGU0ZWMwZTM5NjhiY2E0NjEyYmI5Yzk5ZmE4NGU3MGNiNzgxNTE4NmM0MmE4NTgxMjQvODZjOGVhNmM4Yjc1NTY4N2QwYjcyMzE3NmZjZDBiMjQxMWVmODA1MzNkMjNlMmE1MDMwZjg0NWQxM2FiMmRiNz9yZXNwb25zZS1jb250ZW50LWRpc3Bvc2l0aW9uPSoifV19&Signature=ukilDzLn1lmrNHIMjz3Akp9gEHijexEfT59t2%7EHZq10TGczme4f28LSnW8noQudGUkzg4whdxVhynQsBfvHO21fePhoNT-k0CRd8m%7EZ33dvVc2Yce23ejmRGuhxJAqHYemklu1pqTGZaPakDXvoBkKD1NoqYP84aj6eIe%7E4YxkKk0LS-OainYrRDKhTbCBce7mKmCdQm9C0BlMIvsKWIGCzWrySRC5RSv5jiztckyAtDOnrHrztlbI2uoNsYJadOby-6tGbn999aoR6yGotHMivyKD4BqkPC0SH9j44E7JpoOZ70gbP02xq8coSQiR2XoLxnnTj07B0RYopJWkUnUA__&Key-Pair-Id=K24J24Z295AEI9: HTTPSConnectionPool(host='cdn-lfs-us-1.hf.co', port=443): Read timed out.\n",
      "Trying to resume download...\n",
      "Error while downloading from https://cdn-lfs-us-1.hf.co/repos/79/f2/79f21025e377180e4ec0e3968bca4612bb9c99fa84e70cb7815186c42a858124/86c8ea6c8b755687d0b723176fcd0b2411ef80533d23e2a5030f845d13ab2db7?response-content-disposition=inline%3B+filename*%3DUTF-8%27%27Meta-Llama-3-8B-Instruct.Q4_K_M.gguf%3B+filename%3D%22Meta-Llama-3-8B-Instruct.Q4_K_M.gguf%22%3B&Expires=1745793276&Policy=eyJTdGF0ZW1lbnQiOlt7IkNvbmRpdGlvbiI6eyJEYXRlTGVzc1RoYW4iOnsiQVdTOkVwb2NoVGltZSI6MTc0NTc5MzI3Nn19LCJSZXNvdXJjZSI6Imh0dHBzOi8vY2RuLWxmcy11cy0xLmhmLmNvL3JlcG9zLzc5L2YyLzc5ZjIxMDI1ZTM3NzE4MGU0ZWMwZTM5NjhiY2E0NjEyYmI5Yzk5ZmE4NGU3MGNiNzgxNTE4NmM0MmE4NTgxMjQvODZjOGVhNmM4Yjc1NTY4N2QwYjcyMzE3NmZjZDBiMjQxMWVmODA1MzNkMjNlMmE1MDMwZjg0NWQxM2FiMmRiNz9yZXNwb25zZS1jb250ZW50LWRpc3Bvc2l0aW9uPSoifV19&Signature=ukilDzLn1lmrNHIMjz3Akp9gEHijexEfT59t2%7EHZq10TGczme4f28LSnW8noQudGUkzg4whdxVhynQsBfvHO21fePhoNT-k0CRd8m%7EZ33dvVc2Yce23ejmRGuhxJAqHYemklu1pqTGZaPakDXvoBkKD1NoqYP84aj6eIe%7E4YxkKk0LS-OainYrRDKhTbCBce7mKmCdQm9C0BlMIvsKWIGCzWrySRC5RSv5jiztckyAtDOnrHrztlbI2uoNsYJadOby-6tGbn999aoR6yGotHMivyKD4BqkPC0SH9j44E7JpoOZ70gbP02xq8coSQiR2XoLxnnTj07B0RYopJWkUnUA__&Key-Pair-Id=K24J24Z295AEI9: HTTPSConnectionPool(host='cdn-lfs-us-1.hf.co', port=443): Read timed out.\n",
      "Trying to resume download...\n"
     ]
    },
    {
     "name": "stdout",
     "output_type": "stream",
     "text": [
      "Model downloaded to: C:\\Users\\lgrei\\.cache\\huggingface\\hub\\models--QuantFactory--Meta-Llama-3-8B-Instruct-GGUF\\snapshots\\86e0c07efa3f1b6f06ea13e31b1e930dce865ae4\\Meta-Llama-3-8B-Instruct.Q4_K_M.gguf\n"
     ]
    }
   ],
   "source": [
    "## Actual download of model \n",
    "from huggingface_hub import hf_hub_download\n",
    "\n",
    "model_path = hf_hub_download(\n",
    "    repo_id=\"QuantFactory/Meta-Llama-3-8B-Instruct-GGUF\",\n",
    "    filename=\"Meta-Llama-3-8B-Instruct.Q4_K_M.gguf\"\n",
    ")\n",
    "\n",
    "print(f\"Model downloaded to: {model_path}\")"
   ]
  },
  {
   "cell_type": "code",
   "execution_count": 11,
   "id": "9bee4a57-ea0c-43d6-bfb0-bc77f21235f7",
   "metadata": {
    "tags": []
   },
   "outputs": [
    {
     "name": "stderr",
     "output_type": "stream",
     "text": [
      "AVX = 1 | AVX2 = 1 | AVX512 = 0 | AVX512_VBMI = 0 | AVX512_VNNI = 0 | FMA = 1 | NEON = 0 | ARM_FMA = 0 | F16C = 1 | FP16_VA = 0 | WASM_SIMD = 0 | BLAS = 0 | SSE3 = 1 | SSSE3 = 0 | VSX = 0 | \n"
     ]
    }
   ],
   "source": [
    "## Loading model into memory \n",
    "from llama_cpp import Llama\n",
    "\n",
    "llama3_mtg = Llama(\n",
    "    model_path=model_path,\n",
    "    n_ctx=2048,\n",
    "    n_threads=4,\n",
    "    use_mlock=False\n",
    ")"
   ]
  },
  {
   "cell_type": "code",
   "execution_count": 12,
   "id": "560d61d9-14e6-4f3d-b43c-7cd11cad2d7b",
   "metadata": {
    "tags": []
   },
   "outputs": [
    {
     "name": "stdout",
     "output_type": "stream",
     "text": [
      "Whenever ~ deals combat damage to a player, that player discards a card.\n"
     ]
    }
   ],
   "source": [
    "## Example Prompt \n",
    "prompt = \"\"\"Generate Magic: The Gathering card rules text with the following features:\n",
    "\n",
    "- Type: Creature\n",
    "- Subtypes: Elf, Warrior\n",
    "- Color Identity: Green\n",
    "- Mana Cost: {1}{G}\n",
    "- Power/Toughness: 2/3\n",
    "- Keywords: Trample, Reach\n",
    "\n",
    "Rules Text:\"\"\"\n",
    "\n",
    "output = llama3_mtg(prompt, max_tokens=100, stop=[\"\\n\\n\"])\n",
    "print(output[\"choices\"][0][\"text\"].strip())"
   ]
  },
  {
   "cell_type": "code",
   "execution_count": 14,
   "id": "3272710d-86ec-43a8-81b0-004414768807",
   "metadata": {
    "tags": []
   },
   "outputs": [],
   "source": [
    "# Card Generation Creation \n",
    "\n",
    "def generate_card(\n",
    "    type: list,\n",
    "    subtypes: list,\n",
    "    color_identity: list,\n",
    "    mana_cost: str,\n",
    "    power: str,\n",
    "    toughness: str,\n",
    "    keywords: list,\n",
    "    max_tokens: int = 250\n",
    "):\n",
    "    \n",
    "    prompt = f\"\"\"Create a Magic: The Gathering card using the following characteristics:\n",
    "\n",
    "- Type: {', '.join(type)}\n",
    "- Subtypes: {', '.join(subtypes)}\n",
    "- Color Identity: {', '.join(color_identity)}\n",
    "- Mana Cost: {mana_cost}\n",
    "- Power/Toughness: {power}/{toughness}\n",
    "- Keywords: {', '.join(keywords)}\n",
    "\n",
    "Return the card in the following format:\n",
    "\n",
    "Name: <The card's name>,\n",
    "Rules Text: <Describes the card’s abilities, effects, and how it functions during gameplay. Use formal Magic: The Gathering rules text. Include triggers, costs, and any conditions needed.>\n",
    "\"\"\"\n",
    "\n",
    "    result = llama3_mtg(prompt, max_tokens=max_tokens)\n",
    "    text = result[\"choices\"][0][\"text\"].strip()\n",
    "\n",
    "    # Ensure it starts with Rules Text for consistency\n",
    "    text = f\"Rules Text: {text}\"\n",
    "\n",
    "    # Parse model response\n",
    "    card = {}\n",
    "    for line in text.splitlines():\n",
    "        if ':' in line:\n",
    "            key, value = line.split(':', 1)\n",
    "            card[key.strip()] = value.strip()\n",
    "\n",
    "    # Fallbacks\n",
    "    fallback_name = next((line for line in text.splitlines() if line.strip()), \"Unnamed\")\n",
    "    card_name = card.get(\"Name\", fallback_name)\n",
    "    final_rules = card.get(\"Rules Text\", \"[No rules text generated]\")\n",
    "\n",
    "    # Display\n",
    "    card_display = f\"\"\"\\\n",
    "Name: {card_name}\n",
    "Type: {type}\n",
    "Subtypes: {', '.join(subtypes)}\n",
    "Color Identity: {', '.join(color_identity)}\n",
    "Mana Cost: {mana_cost}\n",
    "Power/Toughness: {power}/{toughness}\n",
    "Keywords: {', '.join(keywords)}\n",
    "Rules Text:\n",
    "{final_rules}\n",
    "\"\"\"\n",
    "\n",
    "    return {\n",
    "        \"card_display\": card_display,\n",
    "        \"name\": card_name,\n",
    "        \"rules_text\": final_rules\n",
    "    }\n",
    "\n"
   ]
  },
  {
   "cell_type": "code",
   "execution_count": null,
   "id": "ec9355aa-be01-4619-8258-42e229229d03",
   "metadata": {
    "tags": []
   },
   "outputs": [
    {
     "ename": "TypeError",
     "evalue": "generate_card() got an unexpected keyword argument 'type_'",
     "output_type": "error",
     "traceback": [
      "\u001b[31m---------------------------------------------------------------------------\u001b[39m",
      "\u001b[31mTypeError\u001b[39m                                 Traceback (most recent call last)",
      "\u001b[36mCell\u001b[39m\u001b[36m \u001b[39m\u001b[32mIn[15]\u001b[39m\u001b[32m, line 2\u001b[39m\n\u001b[32m      1\u001b[39m \u001b[38;5;66;03m## Example Prompt \u001b[39;00m\n\u001b[32m----> \u001b[39m\u001b[32m2\u001b[39m card = \u001b[43mgenerate_card\u001b[49m\u001b[43m(\u001b[49m\n\u001b[32m      3\u001b[39m \u001b[43m    \u001b[49m\u001b[43mtype_\u001b[49m\u001b[43m=\u001b[49m\u001b[33;43m\"\u001b[39;49m\u001b[33;43mCreature\u001b[39;49m\u001b[33;43m\"\u001b[39;49m\u001b[43m,\u001b[49m\n\u001b[32m      4\u001b[39m \u001b[43m    \u001b[49m\u001b[43msubtypes\u001b[49m\u001b[43m=\u001b[49m\u001b[43m[\u001b[49m\u001b[33;43m\"\u001b[39;49m\u001b[33;43mZombie\u001b[39;49m\u001b[33;43m\"\u001b[39;49m\u001b[43m,\u001b[49m\u001b[43m \u001b[49m\u001b[33;43m\"\u001b[39;49m\u001b[33;43mCleric\u001b[39;49m\u001b[33;43m\"\u001b[39;49m\u001b[43m]\u001b[49m\u001b[43m,\u001b[49m\n\u001b[32m      5\u001b[39m \u001b[43m    \u001b[49m\u001b[43mcolor_identity\u001b[49m\u001b[43m=\u001b[49m\u001b[43m[\u001b[49m\u001b[33;43m\"\u001b[39;49m\u001b[33;43mBlack\u001b[39;49m\u001b[33;43m\"\u001b[39;49m\u001b[43m]\u001b[49m\u001b[43m,\u001b[49m\n\u001b[32m      6\u001b[39m \u001b[43m    \u001b[49m\u001b[43mmana_cost\u001b[49m\u001b[43m=\u001b[49m\u001b[33;43m\"\u001b[39;49m\u001b[33;43m2B\u001b[39;49m\u001b[33;43m\"\u001b[39;49m\u001b[43m,\u001b[49m\n\u001b[32m      7\u001b[39m \u001b[43m    \u001b[49m\u001b[43mpower\u001b[49m\u001b[43m=\u001b[49m\u001b[33;43m\"\u001b[39;49m\u001b[33;43m2\u001b[39;49m\u001b[33;43m\"\u001b[39;49m\u001b[43m,\u001b[49m\n\u001b[32m      8\u001b[39m \u001b[43m    \u001b[49m\u001b[43mtoughness\u001b[49m\u001b[43m=\u001b[49m\u001b[33;43m\"\u001b[39;49m\u001b[33;43m2\u001b[39;49m\u001b[33;43m\"\u001b[39;49m\u001b[43m,\u001b[49m\n\u001b[32m      9\u001b[39m \u001b[43m    \u001b[49m\u001b[43mkeywords\u001b[49m\u001b[43m=\u001b[49m\u001b[43m[\u001b[49m\u001b[33;43m\"\u001b[39;49m\u001b[33;43mDeathtouch\u001b[39;49m\u001b[33;43m\"\u001b[39;49m\u001b[43m,\u001b[49m\u001b[43m \u001b[49m\u001b[33;43m\"\u001b[39;49m\u001b[33;43mLifelink\u001b[39;49m\u001b[33;43m\"\u001b[39;49m\u001b[43m]\u001b[49m\n\u001b[32m     10\u001b[39m \u001b[43m)\u001b[49m\n\u001b[32m     12\u001b[39m \u001b[38;5;28mprint\u001b[39m(card[\u001b[33m\"\u001b[39m\u001b[33mcard_display\u001b[39m\u001b[33m\"\u001b[39m])\n",
      "\u001b[31mTypeError\u001b[39m: generate_card() got an unexpected keyword argument 'type_'"
     ]
    }
   ],
   "source": [
    "## Example Prompt \n",
    "card = generate_card(\n",
    "    type=\"Creature\",\n",
    "    subtypes=[\"Zombie\", \"Cleric\"],\n",
    "    color_identity=[\"Black\"],\n",
    "    mana_cost=\"{2}{B}\",\n",
    "    power=\"2\",\n",
    "    toughness=\"2\",\n",
    "    keywords=[\"Deathtouch\", \"Lifelink\"]\n",
    ")\n",
    "\n",
    "print(card[\"card_display\"])"
   ]
  },
  {
   "cell_type": "code",
   "execution_count": null,
   "id": "5e650f75-d155-4975-b082-9906cca19054",
   "metadata": {},
   "outputs": [],
   "source": []
  }
 ],
 "metadata": {
  "kernelspec": {
   "display_name": "venv",
   "language": "python",
   "name": "python3"
  },
  "language_info": {
   "codemirror_mode": {
    "name": "ipython",
    "version": 3
   },
   "file_extension": ".py",
   "mimetype": "text/x-python",
   "name": "python",
   "nbconvert_exporter": "python",
   "pygments_lexer": "ipython3",
   "version": "3.11.4"
  }
 },
 "nbformat": 4,
 "nbformat_minor": 5
}
